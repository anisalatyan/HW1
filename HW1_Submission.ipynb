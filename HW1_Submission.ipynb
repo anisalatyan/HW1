{
 "cells": [
  {
   "cell_type": "code",
   "execution_count": null,
   "metadata": {},
   "outputs": [],
   "source": [
    "# There is no need to run this chunk of code.\n",
    "import os\n",
    "wd=''\n",
    "os.chdir(wd)\n",
    "%run HW1_solutions.ipynb"
   ]
  },
  {
   "cell_type": "markdown",
   "metadata": {},
   "source": [
    "## Homework 1 Submission\n",
    "Write your name and surname below:\n",
    "<br>\n",
    "Name: Ani\n",
    "<br>\n",
    "Surname: Salatyan"
   ]
  },
  {
   "cell_type": "markdown",
   "metadata": {},
   "source": [
    "***Problem 1:*** <br> Write a program that: <br>\n",
    "a. compares the lengths of two texts given below (i.e. the number of characters in each text) <br>\n",
    "b. compares the numbers of words in each text<br>\n",
    "c. calculates the frequency of each word (the number of times the word appears in the text) in each text and puts them in a dictionary <br>\n",
    "d. prints the number of unique words used in each text as a dictionary.\n",
    "<br>\n",
    "Example 1: {\"The legth of text a\": 487,\"The legth of text b\": 562}<br>\n",
    "Example 2: Word frequency- {\"Jovi\":2,\"in\": 4}\n"
   ]
  },
  {
   "cell_type": "code",
   "execution_count": null,
   "metadata": {},
   "outputs": [],
   "source": [
    "a = 'Bon Jovi is an American rock band formed in 1983 in Sayreville, New Jersey. \\\n",
    "It consists of singer Jon Bon Jovi, keyboardist David Bryan, drummer Tico Torres, \\\n",
    "guitarist PhilX, and bassist Hugh McDonald. Previous bassist Alec John Such was \\\n",
    "dismissed in 1994, and longtime guitarist and co-songwriter Richie Sambora left in 2013.'\n",
    "\n",
    "b = \"Ronald Wilson Reagan (/ˈreɪɡən/; February 6, 1911 – June 5, 2004) \\\n",
    "was an American politician who served as the 40th president of the United \\\n",
    "States from 1981 to 1989. Prior to his presidency, he was a Hollywood actor \\\n",
    "and union leader before serving as the 33rd governor of California from 1967 to 1975.\""
   ]
  },
  {
   "cell_type": "code",
   "execution_count": null,
   "metadata": {},
   "outputs": [],
   "source": [
    "###_____________Start code here_________________###\n",
    "\n",
    "#a\n",
    "if len(a)> len(b):\n",
    "    print(\"a is longer\")\n",
    "elif len(b)>len(a):\n",
    "    print(\"b is longer\")\n",
    "else:\n",
    "    print(\"theyre equal\")\n",
    "\n",
    "#b\n",
    "print(\"Word count a =\" + str(a.count(' ')))\n",
    "print(\"Word count b =\" + str(b.count(' ')))\n",
    "\n",
    "  \n",
    "#c\n",
    "c={}\n",
    "a1=a.split(' ')\n",
    "for item in a1:\n",
    "    count=a1.count(item)\n",
    "    c.update({item:count})\n",
    "print (c) \n",
    " \n",
    "    \n",
    "d={}\n",
    "b1=b.split(' ')\n",
    "for item in b1:\n",
    "    count=b1.count(item)\n",
    "    d.update({item:count})\n",
    "print (d)\n",
    "\n",
    "#d\n",
    "u1= set(wA)\n",
    "u2 = set(wB)\n",
    "print(len(u1),len(u2))\n",
    "\n",
    "###_____________End code here_________________###"
   ]
  },
  {
   "cell_type": "code",
   "execution_count": null,
   "metadata": {},
   "outputs": [],
   "source": [
    "# There is no need to run this chunk of code.\n",
    "ex1(a,b)"
   ]
  },
  {
   "cell_type": "markdown",
   "metadata": {},
   "source": [
    "***Problem 13:*** Write a program to calculate the sum of the digits of a number  until it is a single-digit number (Example: **199** -> 1+9+9=**19** -> 1+9=**10** -> 1+0=**1**). Let the program print the result of each step (the bolded numbers in the example). Run the program for 289, 1011, 3333."
   ]
  },
  {
   "cell_type": "code",
   "execution_count": null,
   "metadata": {},
   "outputs": [],
   "source": [
    "###_____________Start code here_________________###\n",
    "\n",
    "def gs (n):\n",
    "   \n",
    "    sum = 0\n",
    "    while (n != 0): \n",
    "      \n",
    "        sum = sum + int(n % 10) \n",
    "        n = int(n/10) \n",
    "      \n",
    "    return sum\n",
    "  \n",
    "n = 199\n",
    "\n",
    "\n",
    "while n >= 10:\n",
    "    n = gs(n)\n",
    "    print(n)\n",
    "\n",
    "###_____________End code here_________________###"
   ]
  },
  {
   "cell_type": "code",
   "execution_count": null,
   "metadata": {},
   "outputs": [],
   "source": [
    "# There is no need to run this chunk of code.\n",
    "ex13(289)\n",
    "ex13(1011)\n",
    "ex13(3333)"
   ]
  },
  {
   "cell_type": "markdown",
   "metadata": {},
   "source": [
    "***Problem 14:*** Write a program to print a chess board where **\"X\"s** are black squares and **\"O\"s** are white ones. Hint: you can use \"end\" parameter of print() function to print on the same line and separate the outputs of different prints by space or any character you want. More on this topic here: https://www.geeksforgeeks.org/gfact-50-python-end-parameter-in-print/.\n",
    "<br>The output should be like this:\n",
    "<img src=\"chess.jpg\" style=\"width: 200px;\">"
   ]
  },
  {
   "cell_type": "code",
   "execution_count": null,
   "metadata": {},
   "outputs": [],
   "source": [
    "###_____________Start code here_________________###\n",
    "\n",
    "def XO(a):\n",
    "    for index in range(a):\n",
    "        \n",
    "        if index % 2 == 0:\n",
    "            \n",
    "            print(\"-\" * ( 2 * a ))\n",
    "            print(\"|O|X\" * 4, end = \"|\\n\")\n",
    "    \n",
    "        else:\n",
    "            \n",
    "            print(\"-\" * ( 2 * a ))\n",
    "            print(\"|X|O\" * 4 , end = \"|\\n\")\n",
    "            \n",
    "XO(8)\n",
    "\n",
    "###_____________End code here_________________###"
   ]
  },
  {
   "cell_type": "code",
   "execution_count": null,
   "metadata": {},
   "outputs": [],
   "source": [
    "# There is no need to run this chunk of code.\n",
    "ex14()"
   ]
  },
  {
   "cell_type": "markdown",
   "metadata": {},
   "source": [
    "***Problem 15:*** Write a program to reverse the digits of a given integer without using any built-in function or slicing. (**Example**: 12345 to 54321). Run the program for 4815162342."
   ]
  },
  {
   "cell_type": "code",
   "execution_count": null,
   "metadata": {},
   "outputs": [],
   "source": [
    "###_____________Start code here_________________###\n",
    "\n",
    "def reverse(str):\n",
    "        \n",
    "    a = len(str) - 1\n",
    "    nstr = \"\"\n",
    "       \n",
    "    while(a >= 0):\n",
    "        \n",
    "        nstr = nstr + str[a]\n",
    "        a = a - 1\n",
    "    return nstr\n",
    " \n",
    "print(reverse('4815162342'))\n",
    "\n",
    "###_____________End code here_________________###"
   ]
  },
  {
   "cell_type": "code",
   "execution_count": null,
   "metadata": {},
   "outputs": [],
   "source": [
    "# There is no need to run this chunk of code.\n",
    "ex15(4815162342)"
   ]
  },
  {
   "cell_type": "markdown",
   "metadata": {},
   "source": [
    "***Problem 17:*** Write a function that will find all numbers between A and B (inclusive) such that each digit of the number is even. For example foo(20,26) returns [22,24,26]. Call the function for A=40 and B=140. 0 is even number."
   ]
  },
  {
   "cell_type": "code",
   "execution_count": null,
   "metadata": {},
   "outputs": [],
   "source": [
    "###_____________Start code here_________________###\n",
    "\n",
    "def even(A, B):\n",
    "    ls = []\n",
    "    while A < B:\n",
    "        if (A % 2) == 0:\n",
    "            if A + 2 <= B:\n",
    "                A +=2 \n",
    "                ls.append(A)\n",
    "        else:\n",
    "            if A + 1 <= B:\n",
    "                A +=1 \n",
    "                ls.append(A)\n",
    "    \n",
    "    return ls\n",
    "    \n",
    "\n",
    "print(even(20, 140))\n",
    "\n",
    "###_____________End code here_________________###"
   ]
  },
  {
   "cell_type": "code",
   "execution_count": null,
   "metadata": {},
   "outputs": [],
   "source": [
    "# There is no need to run this chunk of code.\n",
    "ex17(40,140)"
   ]
  },
  {
   "cell_type": "markdown",
   "metadata": {},
   "source": [
    "***Problem 18:*** On basic cell phones numeric keypad is used to write a message. Write a function to output the numerical sequence of the keys to be pressed for any message. For instance, numerical sequence for typing \"P\" will be 7 and for \"I\" 444. Another example, the sequence for \"hello\" will be 4433555555666. Make the input text uppercase before converting to numerical sequence. Call the function for the following input **\"HI DEAR! I WILL BE LATE TODAY.\"**\n",
    "\n",
    "| Key | Symbols |\n",
    "|----|----|\n",
    "|1|. , ? ! :|\n",
    "|2|A B C|\n",
    "|3|D E F|\n",
    "|4|G H I|\n",
    "|5|J K L|\n",
    "|6|M N O|\n",
    "|7|P Q R S|\n",
    "|8|T U V|\n",
    "|9|W X Y Z|\n",
    "|0| space |\n"
   ]
  },
  {
   "cell_type": "code",
   "execution_count": null,
   "metadata": {},
   "outputs": [],
   "source": [
    "###_____________Start code here_________________###\n",
    "\n",
    "def wordtonum(str):\n",
    "    thisdict = {\n",
    "      \".\": \"1\",\n",
    "      \",\": \"11\",\n",
    "      \"?\": \"111\",\n",
    "      \"!\": \"1111\",\n",
    "      \":\": \"11111\",\n",
    "\n",
    "      \"A\": \"2\",\n",
    "      \"B\": \"22\",\n",
    "      \"C\": \"222\",\n",
    "\n",
    "      \"D\": \"3\",\n",
    "      \"E\": \"33\",\n",
    "      \"F\": \"333\",\n",
    "\n",
    "\n",
    "      \"G\": \"4\",\n",
    "      \"H\": \"44\",\n",
    "      \"I\": \"444\",\n",
    "\n",
    "\n",
    "      \"J\": \"5\",\n",
    "      \"K\": \"55\",\n",
    "      \"L\": \"555\",\n",
    "\n",
    "      \"M\": \"6\",\n",
    "      \"N\": \"66\",\n",
    "      \"O\": \"666\",\n",
    "\n",
    "      \"P\": \"7\",\n",
    "      \"Q\": \"77\",\n",
    "      \"R\": \"777\",\n",
    "      \"S\": \"7777\",\n",
    "\n",
    "      \"T\": \"8\",\n",
    "      \"U\": \"88\",\n",
    "      \"V\": \"888\",\n",
    "\n",
    "      \"W\": \"9\",\n",
    "      \"X\": \"99\",\n",
    "      \"Y\": \"999\",\n",
    "      \"Z\": \"9999\",\n",
    "\n",
    "\n",
    "      \" \": \"0\",\n",
    "    }\n",
    "    a =\"\"\n",
    "\n",
    "    for i in str:\n",
    "        a+=thisdict[i]\n",
    "\n",
    "    return a\n",
    "\n",
    "\n",
    "print(wordtonum('HI DEAR! I WILL BE LATE TODAY.'))\n",
    "\n",
    "\n",
    "###_____________End code here_________________###"
   ]
  },
  {
   "cell_type": "code",
   "execution_count": null,
   "metadata": {},
   "outputs": [],
   "source": [
    "# There is no need to run this chunk of code.\n",
    "print(ex18(\"HI DEAR! I WILL BE LATE TODAY.\"))"
   ]
  },
  {
   "cell_type": "markdown",
   "metadata": {},
   "source": [
    "***Problem 20:*** Write a program that accepts a sentence and prints the number of letters and digits in it. Run the program for \"1, 2, 3, 4... Let's run the code!\" "
   ]
  },
  {
   "cell_type": "code",
   "execution_count": null,
   "metadata": {},
   "outputs": [],
   "source": [
    "###_____________Start code here_________________###\n",
    "\n",
    "s = input(\"Input a string\")\n",
    "d=l=0\n",
    "for c in s:\n",
    "    if c.isdigit():\n",
    "        d=d+1\n",
    "    elif c.isalpha():\n",
    "        l=l+1\n",
    "    else:\n",
    "        pass\n",
    "print(\"Letters\", l)\n",
    "print(\"Digits\", d)\n",
    "\n",
    "###_____________End code here_________________###"
   ]
  },
  {
   "cell_type": "code",
   "execution_count": null,
   "metadata": {},
   "outputs": [],
   "source": [
    "# There is no need to run this chunk of code.\n",
    "ex20(\"1, 2, 3, 4... Let's run the code!\")"
   ]
  },
  {
   "cell_type": "markdown",
   "metadata": {},
   "source": [
    "***Problem 22:*** Two people throw two six-sided fair dices each. The one with greater sum wins, and if the sum is equal, they draw. Write a program that simulates the game and plays 100 time. Print the number of wins of Player 1, Player 2 and draws."
   ]
  },
  {
   "cell_type": "code",
   "execution_count": null,
   "metadata": {},
   "outputs": [],
   "source": [
    "###_____________Start code here_________________###\n",
    "\n",
    "import random\n",
    "    \n",
    "def score():\n",
    "    dice =['1','2','3','4','5','6']\n",
    "    num=0\n",
    "    player1 = 0\n",
    "    player2 = 0\n",
    "    player1wins = 0\n",
    "    player2wins = 0\n",
    "    draws = 0\n",
    "    while (num<100):\n",
    "        player1 =random.choice(dice) +random.choice(dice)\n",
    "        print(\"player1 = \" + player1)\n",
    "        player2 =random.choice(dice) +random.choice(dice)\n",
    "        print(\"player2 = \" + player2)\n",
    "        if player1 > player2:\n",
    "            player1wins+=1\n",
    "        elif player1 < player2:\n",
    "            player2wins+=1\n",
    "        else:\n",
    "            draws+=1\n",
    "        num+=1\n",
    "        st = \"player 1 win count = \" + str(player1wins) + \", player 2 win count = \" + str(player2wins) + \", draws = \"+ str(draws)\n",
    "    \n",
    "    return st\n",
    "    \n",
    "print(score())\n",
    "\n",
    "\n",
    "###_____________End code here_________________###"
   ]
  },
  {
   "cell_type": "code",
   "execution_count": null,
   "metadata": {},
   "outputs": [],
   "source": [
    "# There is no need to run this chunk of code.\n",
    "ex22()"
   ]
  },
  {
   "cell_type": "markdown",
   "metadata": {},
   "source": [
    "***Problem 23:*** Write a program that randomly generates a nine-character password. First 3 characters must be from the set \"let\", second 3 characters from the set \"num\", last three ones from the set \"sym\". Set seed() to 42 and generate a password."
   ]
  },
  {
   "cell_type": "code",
   "execution_count": null,
   "metadata": {},
   "outputs": [],
   "source": [
    "let = {'A','B','C','a','b','c'}\n",
    "num = {1,2,3,4,5,6}\n",
    "sym = {'!','@','#','$','%','^'}"
   ]
  },
  {
   "cell_type": "code",
   "execution_count": null,
   "metadata": {},
   "outputs": [],
   "source": [
    "###_____________Start code here_________________###\n",
    "\n",
    "import random\n",
    "a= list(let)\n",
    "b=list(num)\n",
    "c=list(sym)\n",
    "random.seed(42)\n",
    "pw = random.choice(a)+random.choice(a)+random.choice(a)+str(random.choice(b))+str(random.choice(b))+str(random.choice(b))+random.choice(c)+random.choice(c)+random.choice(c)\n",
    "print(pw)\n",
    "\n",
    "###_____________End code here_________________###"
   ]
  },
  {
   "cell_type": "code",
   "execution_count": null,
   "metadata": {},
   "outputs": [],
   "source": [
    "# There is no need to run this chunk of code.\n",
    "ex23()"
   ]
  },
  {
   "cell_type": "markdown",
   "metadata": {},
   "source": [
    "\n",
    "***Problem 24:*** Write a program to find all the numbers divisible by 6 but not a multiple of 5 between 100 and 500 (inclusive). Print the numbers as a comma-separated string."
   ]
  },
  {
   "cell_type": "code",
   "execution_count": null,
   "metadata": {},
   "outputs": [],
   "source": [
    "###_____________Start code here_________________###\n",
    "\n",
    "st = ''\n",
    "for value in range(100,500):\n",
    "    if value % 3 == 0 and value % 2 == 0 and value % 5 != 0:\n",
    "        st+=str(value)+','\n",
    "\n",
    "print(st)\n",
    "\n",
    "###_____________End code here_________________###"
   ]
  },
  {
   "cell_type": "code",
   "execution_count": null,
   "metadata": {},
   "outputs": [],
   "source": [
    "# There is no need to run this chunk of code.\n",
    "ex24()"
   ]
  },
  {
   "cell_type": "markdown",
   "metadata": {},
   "source": [
    "***Example 25:*** Write a program that converts \"firstname lastname\" to \"lastname, firstname\", using list comprehensions."
   ]
  },
  {
   "cell_type": "code",
   "execution_count": null,
   "metadata": {},
   "outputs": [],
   "source": [
    "ls = ['Հրաչյա Վարդանյան', 'Անուշ Կարապետյան', 'Գոռ Անտոնյան', 'Տաթեւ Հարությունյան', 'Mary Sargsyan']"
   ]
  },
  {
   "cell_type": "code",
   "execution_count": null,
   "metadata": {},
   "outputs": [],
   "source": [
    "###_____________Start code here_________________###\n",
    "\n",
    "ls = ['Հրաչյա Վարդանյան', 'Անուշ Կարապետյան', 'Գոռ Անտոնյան', 'Տաթեւ Հարությունյան', 'Mary Sargsyan']\n",
    "\n",
    "for i in ls:\n",
    "    temp = i.split(' ')\n",
    "    i = temp[1] + ' ' + temp[0]\n",
    "    print(i)\n",
    "\n",
    "###_____________End code here_________________###"
   ]
  },
  {
   "cell_type": "code",
   "execution_count": null,
   "metadata": {},
   "outputs": [],
   "source": [
    "# There is no need to run this chunk of code.\n",
    "ex25(ls)"
   ]
  },
  {
   "cell_type": "markdown",
   "metadata": {},
   "source": [
    "***Problem 27:*** Write a function to devide an input list of ages between 0 and 70 into 4 groups.<br><br>\n",
    "Baby Boomers  - (50 to 70 years old]<br>\n",
    "Generation X - (34 to 50 years old]<br>\n",
    "Generation Y - (18 to 34 years old]<br>\n",
    "Generation Z - [0 to 18 years old]<br>\n",
    "\n",
    "Return a dictionary with the following structure:\n",
    "{'Group 1':[ages],'Group 2':[ages],'Group 3':[ages],'Group 4':[ages]}"
   ]
  },
  {
   "cell_type": "code",
   "execution_count": null,
   "metadata": {},
   "outputs": [],
   "source": [
    "ls = [18,29,3,14,69,10,1,58,52,23,24,5,65]\n",
    "###_____________Start code here_________________###\n",
    "\n",
    "\n",
    "###_____________End code here_________________###"
   ]
  },
  {
   "cell_type": "code",
   "execution_count": null,
   "metadata": {},
   "outputs": [],
   "source": [
    "# There is no need to run this chunk of code.\n",
    "ex27(ls)"
   ]
  }
 ],
 "metadata": {
  "kernelspec": {
   "display_name": "Python 3",
   "language": "python",
   "name": "python3"
  },
  "language_info": {
   "codemirror_mode": {
    "name": "ipython",
    "version": 3
   },
   "file_extension": ".py",
   "mimetype": "text/x-python",
   "name": "python",
   "nbconvert_exporter": "python",
   "pygments_lexer": "ipython3",
   "version": "3.7.1"
  }
 },
 "nbformat": 4,
 "nbformat_minor": 2
}
